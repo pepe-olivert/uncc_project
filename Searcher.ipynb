{
 "cells": [
  {
   "cell_type": "markdown",
   "metadata": {},
   "source": [
    "## In this notebook we will create a searcher to find queries in the index"
   ]
  },
  {
   "cell_type": "code",
   "execution_count": 21,
   "metadata": {},
   "outputs": [],
   "source": [
    "from whoosh.index import open_dir\n",
    "from whoosh.qparser import QueryParser"
   ]
  },
  {
   "cell_type": "code",
   "execution_count": 22,
   "metadata": {},
   "outputs": [],
   "source": [
    "dir1='index'\n",
    "ix=open_dir(dir1)"
   ]
  },
  {
   "cell_type": "code",
   "execution_count": 27,
   "metadata": {},
   "outputs": [],
   "source": [
    "personal_query='keywords:Chishimba'"
   ]
  },
  {
   "cell_type": "code",
   "execution_count": 28,
   "metadata": {},
   "outputs": [
    {
     "name": "stdout",
     "output_type": "stream",
     "text": [
      "query --> keywords:Chishimba\n",
      "-> On 20th October 2021, Zambian Fox, an online platform posted a video with a caption claiming Patriotic Front (PF) member, Chishimba Kambwili had resigned from politics. The post also claimed that Mr. Kambwili, who is referred to as “Imbwili” in political circles, had joined the dancing group so that he would apply for empowerment under the Artists Empowerment Fund. The post attracted over 1000 reactions from the public because there has been speculation that Mr. Kambwili could be adopted as PF President and contest as President on the PF ticket in 2026.  The Fact Checking process has established as false the claim that Chishimba Kambwili has resigned from politics. The iVerify Team analyzed the video that was posted by Zambian Fox and observed that the man in the video is not Chishimba Kambwili. To further verify the claims, the iVerify Team interviewed Mr Kambwili. He refuted the claim and explained that he was not interviewed by any media house concerning the speculations of his resignation from politics. Mr. Kambwili explained that he had no intentions of applying for the empowerment funds. He urged the public to not be misled by social media speculations. (Fact Checking, Zambian Fox, Chishimba Kambwili,)\n",
      "-> The Lusaka Times Website reported on 18th July, 2021 that Mr. Chishimba Kambwili had continued his tribally charged statements against political opponents. The report said that while featuring on a radio campaign on Breeze FM in Chipata on Saturday, 17th July 2021, Mr. Kambwili claimed that Mr. Hakainde Hichilima is a wrong person with a hidden agenda, who the people of Eastern province and Zambia as a whole should never entrust with power to govern. The Lusaka Times online publication further quotes Mr. Kambwili saying that, “…the opposition party is nothing but a party that has been created with the sole purpose of selling one individual who has ended up misleading the entire Southern Province that it is only right to vote for people who come from there.” The Fact Checking process has determined as true the claim that Mr Kambwili has continued using disruptive language despite his recent censure by the ECZ. On 30/06/2021, The Electoral Commission of Zambia Chief Electoral Officer Mr. Kryticious Nshindano announced the indefinite suspension of Chishimba Kambwili, former Minister of Information and Broadcasting Services, from participating in any campaign activities in line with paragraph 11(i) (d) of the Electoral Code of Conduct. The ECZ Facebook page later announced the lifting of indefinite suspension of Chishimba Kambwili, on 8th July, 2021. This was as a result of Mr. Kambwili apologizing and showing remorse to the ECZ during the suspension. However, on 18th July 2021, during a radio campaign at Breeze FM radio station in Chipata, Chishimba Kambwili claimed that the United Party National Development (UPND) party “…a party that most of the things they talk about are not real and they just want to come into power and that political party is nothing”. During the radio campaign, he further went on to state that Hakainde Hichilima is the wrong person with a hidden agenda, who the people of Eastern province and Zambia as a whole should never entrust with power to govern. Mr Kambwili further said “that this gentleman (referring to UPND party President, Hakainde Hichilema) is a wrong leader who thinks of himself and only people from his tribe are important”. In addition, “Chishimba Kambwili has charged that Zambia risk going back to the 1970s when the country was fighting tribalism and regionalism if they vote for the United Party for National Development (UPND)” states Mwebantu. The ECZ has not yet issued a statement concerning Chishimba Kambwili’s latest remarks. (Chishimba Kambwili, electoral code of conduct,)\n",
      "=================================\n",
      "2 results\n"
     ]
    }
   ],
   "source": [
    "full_query=f'query --> {personal_query}'\n",
    "\n",
    "print(full_query)\n",
    "\n",
    "with ix.searcher() as searcher:\n",
    "    parser=QueryParser(\"evidences\",ix.schema)\n",
    "    query=parser.parse(personal_query)\n",
    "    \n",
    "    results=searcher.search(query)\n",
    "    \n",
    "    for r in results:\n",
    "        print(f'-> {r[\"claim\"]} {r[\"evidences\"]} ({r[\"keywords\"]})')\n",
    "\n",
    "    print(\"=================================\")\n",
    "    print(f'{len(results)} results')"
   ]
  }
 ],
 "metadata": {
  "kernelspec": {
   "display_name": "Python 3 (ipykernel)",
   "language": "python",
   "name": "python3"
  },
  "language_info": {
   "codemirror_mode": {
    "name": "ipython",
    "version": 3
   },
   "file_extension": ".py",
   "mimetype": "text/x-python",
   "name": "python",
   "nbconvert_exporter": "python",
   "pygments_lexer": "ipython3",
   "version": "3.8.3"
  }
 },
 "nbformat": 4,
 "nbformat_minor": 4
}
