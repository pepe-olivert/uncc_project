{
 "cells": [
  {
   "cell_type": "markdown",
   "id": "48fffeff",
   "metadata": {},
   "source": [
    "# Index\n",
    "1. ### [Content scraping](#content)\n",
    "1. ### [Saving to CSV file](#export)"
   ]
  },
  {
   "cell_type": "markdown",
   "id": "1812b939",
   "metadata": {},
   "source": [
    "<a id='content'></a>\n",
    "\n",
    "## Content scraping"
   ]
  },
  {
   "cell_type": "code",
   "execution_count": 141,
   "id": "be9ba83b",
   "metadata": {
    "ExecuteTime": {
     "end_time": "2023-04-20T22:45:54.033550Z",
     "start_time": "2023-04-20T22:45:53.817339Z"
    }
   },
   "outputs": [],
   "source": [
    "import requests\n",
    "from bs4 import BeautifulSoup\n",
    "import re\n",
    "from datetime import datetime\n",
    "\n",
    "def apostrophe(s):\n",
    "    s = s.replace(\"\\'\", \"'\")\n",
    "    return s\n",
    "\n",
    "url = 'https://www.bbc.com/news/64642608'\n",
    "result = requests.get(url)\n",
    "src = result.content     \n",
    "soup = BeautifulSoup(src, 'html.parser')\n",
    "\n",
    "\n",
    "# extracting claim\n",
    "claims = []\n",
    "claims_html = soup.find_all('div', class_='ssrcss-dm4ypg-ComponentWrapper-HeadlineComponentWrapper egtrm1f0')\n",
    "for i in claims_html:\n",
    "    claim = i.text\n",
    "    claim = claim.split(\":\")[1].strip().split(\"'\")[1].strip().split(\"'\")[0].strip()\n",
    "    claims.append(claim)\n",
    "\n",
    "\n",
    "# extracting justifying text\n",
    "justifications = []\n",
    "all_pars = []\n",
    "paragraphs_html = soup.find_all('div', class_='ssrcss-7uxr49-RichTextContainer e5tfeyi1')\n",
    "for i in paragraphs_html:\n",
    "    all_pars.append(i.text)\n",
    "    \n",
    "to_remove = 0, 1, 22, 28, 29, 30\n",
    "all_pars = [i for j, i in enumerate(all_pars) if j not in to_remove]\n",
    "\n",
    "claim1 = all_pars[0:13]\n",
    "claim2 = all_pars[13:17]\n",
    "claim3 = all_pars[17:]\n",
    "    \n",
    "text1,text2,text3 = '','',''\n",
    "\n",
    "for par in claim1:\n",
    "    text1 += ' ' + apostrophe(par)\n",
    "    text1 = text1.strip()\n",
    "    \n",
    "for par in claim2:\n",
    "    text2 += ' ' + apostrophe(par)\n",
    "    text2 = text2.strip()\n",
    "    \n",
    "for par in claim3:\n",
    "    text3 += ' ' + apostrophe(par)\n",
    "    text3 = text3.strip()\n",
    "    \n",
    "justifications.append(text1)\n",
    "justifications.append(text2)\n",
    "justifications.append(text3)\n",
    "\n",
    "\n",
    "# extracting date\n",
    "date_raw = soup.find('span', class_='ssrcss-1if1g9v-MetadataText ecn1o5v1').text\n",
    "if len(date_raw.split()) == 2: date_raw += ' 2023'\n",
    "date_object = datetime.strptime(date_raw, '%d %B %Y')\n",
    "formatted_date = date_object.strftime('%d-%m-%Y')\n",
    "dates = [formatted_date]*3\n",
    "\n",
    "\n",
    "# extracting url\n",
    "urls = ['https://www.bbc.com/news/64642608']*3\n",
    "\n",
    "\n",
    "# extract label\n",
    "veredicts = ['Misleading']*3"
   ]
  },
  {
   "cell_type": "code",
   "execution_count": 144,
   "id": "cfb44788",
   "metadata": {
    "ExecuteTime": {
     "end_time": "2023-04-20T22:46:46.531168Z",
     "start_time": "2023-04-20T22:46:46.525656Z"
    }
   },
   "outputs": [],
   "source": [
    "everything = list(zip(claims, veredicts, justifications, dates, urls))"
   ]
  },
  {
   "cell_type": "markdown",
   "id": "1dd00fa7",
   "metadata": {},
   "source": [
    "<a id='export'></a>\n",
    "\n",
    "## Saving to CSV file"
   ]
  },
  {
   "cell_type": "code",
   "execution_count": 145,
   "id": "890f15da",
   "metadata": {
    "ExecuteTime": {
     "end_time": "2023-04-20T22:46:51.399759Z",
     "start_time": "2023-04-20T22:46:51.361746Z"
    }
   },
   "outputs": [
    {
     "data": {
      "text/html": [
       "<div>\n",
       "<style scoped>\n",
       "    .dataframe tbody tr th:only-of-type {\n",
       "        vertical-align: middle;\n",
       "    }\n",
       "\n",
       "    .dataframe tbody tr th {\n",
       "        vertical-align: top;\n",
       "    }\n",
       "\n",
       "    .dataframe thead th {\n",
       "        text-align: right;\n",
       "    }\n",
       "</style>\n",
       "<table border=\"1\" class=\"dataframe\">\n",
       "  <thead>\n",
       "    <tr style=\"text-align: right;\">\n",
       "      <th></th>\n",
       "      <th>Claim</th>\n",
       "      <th>Label</th>\n",
       "      <th>Evidence</th>\n",
       "      <th>Date</th>\n",
       "      <th>URL</th>\n",
       "    </tr>\n",
       "  </thead>\n",
       "  <tbody>\n",
       "    <tr>\n",
       "      <th>0</th>\n",
       "      <td>While the poverty rate in India is about 16%, ...</td>\n",
       "      <td>Misleading</td>\n",
       "      <td>Mr Obi has taken data from two different sourc...</td>\n",
       "      <td>20-02-2023</td>\n",
       "      <td>https://www.bbc.com/news/64642608</td>\n",
       "    </tr>\n",
       "    <tr>\n",
       "      <th>1</th>\n",
       "      <td>In just five years between 2015 and 2020, the ...</td>\n",
       "      <td>Misleading</td>\n",
       "      <td>Mr Atiku Abubakar of the opposition PDP, who w...</td>\n",
       "      <td>20-02-2023</td>\n",
       "      <td>https://www.bbc.com/news/64642608</td>\n",
       "    </tr>\n",
       "    <tr>\n",
       "      <th>2</th>\n",
       "      <td>[Insecurity has] actually reduced... we [had] ...</td>\n",
       "      <td>Misleading</td>\n",
       "      <td>Insecurity has been a major election issue, in...</td>\n",
       "      <td>20-02-2023</td>\n",
       "      <td>https://www.bbc.com/news/64642608</td>\n",
       "    </tr>\n",
       "  </tbody>\n",
       "</table>\n",
       "</div>"
      ],
      "text/plain": [
       "                                               Claim       Label  \\\n",
       "0  While the poverty rate in India is about 16%, ...  Misleading   \n",
       "1  In just five years between 2015 and 2020, the ...  Misleading   \n",
       "2  [Insecurity has] actually reduced... we [had] ...  Misleading   \n",
       "\n",
       "                                            Evidence        Date  \\\n",
       "0  Mr Obi has taken data from two different sourc...  20-02-2023   \n",
       "1  Mr Atiku Abubakar of the opposition PDP, who w...  20-02-2023   \n",
       "2  Insecurity has been a major election issue, in...  20-02-2023   \n",
       "\n",
       "                                 URL  \n",
       "0  https://www.bbc.com/news/64642608  \n",
       "1  https://www.bbc.com/news/64642608  \n",
       "2  https://www.bbc.com/news/64642608  "
      ]
     },
     "execution_count": 145,
     "metadata": {},
     "output_type": "execute_result"
    }
   ],
   "source": [
    "import pandas as pd\n",
    "df = pd.DataFrame.from_records(everything, columns=[\"Claim\", \"Label\", \"Evidence\", \"Date\", \"URL\"])\n",
    "pd.options.display.max_rows = None\n",
    "df"
   ]
  },
  {
   "cell_type": "code",
   "execution_count": 146,
   "id": "7cb6aaa4",
   "metadata": {
    "ExecuteTime": {
     "end_time": "2023-04-20T22:47:15.711394Z",
     "start_time": "2023-04-20T22:47:15.689709Z"
    }
   },
   "outputs": [],
   "source": [
    "# save to csv file\n",
    "df.to_csv(\"bbc.csv\", index=False)"
   ]
  }
 ],
 "metadata": {
  "kernelspec": {
   "display_name": "Python 3 (ipykernel)",
   "language": "python",
   "name": "python3"
  },
  "language_info": {
   "codemirror_mode": {
    "name": "ipython",
    "version": 3
   },
   "file_extension": ".py",
   "mimetype": "text/x-python",
   "name": "python",
   "nbconvert_exporter": "python",
   "pygments_lexer": "ipython3",
   "version": "3.8.5"
  }
 },
 "nbformat": 4,
 "nbformat_minor": 5
}
