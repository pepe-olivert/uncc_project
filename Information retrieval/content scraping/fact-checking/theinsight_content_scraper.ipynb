{
 "cells": [
  {
   "cell_type": "markdown",
   "id": "48fffeff",
   "metadata": {},
   "source": [
    "# Index\n",
    "1. ### [Manually added claims](#manual)\n",
    "1. ### [Saving to CSV file](#export)"
   ]
  },
  {
   "cell_type": "markdown",
   "id": "91ec7ea6",
   "metadata": {},
   "source": [
    "<a id='manual'></a>\n",
    "\n",
    "## Manually added claims"
   ]
  },
  {
   "cell_type": "code",
   "execution_count": 2,
   "id": "cb03cc95",
   "metadata": {
    "ExecuteTime": {
     "end_time": "2023-04-30T09:41:08.937648Z",
     "start_time": "2023-04-30T09:41:08.926056Z"
    }
   },
   "outputs": [],
   "source": [
    "manual = [('A Facebook user shared screenshots purportedly from different media organisations, including AP, Financial Times, News 24, NDTV and Times of India. In the screenshot, some world leaders had called the 2023 elections a sham and requested for the cancellation of the polls.', 'FALSE', 'DUBAWA first noticed that there was a period after the alleged headlines. Adding periods to headlines is not the standard for any media house, let alone reputable ones. Another discrepancy DUBAWA observed was the style of NDTV’s headline on the screenshot and that on their site.  Only proper nouns are capitalised on the screenshot, purportedly from NDTV, but on the website, NDTV capitalises every word on its headline. DUBAWA then ran a keyword search on each website to see if the stories could be found there. However, none existed.', '25-04-2023', 'https://theinsight.com.ng/fact-checknews-headlines-of-world-leaders-condemning-nigerian-polls-fake/')]"
   ]
  },
  {
   "cell_type": "markdown",
   "id": "1dd00fa7",
   "metadata": {},
   "source": [
    "<a id='export'></a>\n",
    "\n",
    "## Saving to CSV file"
   ]
  },
  {
   "cell_type": "code",
   "execution_count": 3,
   "id": "c07f3ef4",
   "metadata": {
    "ExecuteTime": {
     "end_time": "2023-04-30T09:41:10.330218Z",
     "start_time": "2023-04-30T09:41:10.284763Z"
    }
   },
   "outputs": [
    {
     "data": {
      "text/html": [
       "<div>\n",
       "<style scoped>\n",
       "    .dataframe tbody tr th:only-of-type {\n",
       "        vertical-align: middle;\n",
       "    }\n",
       "\n",
       "    .dataframe tbody tr th {\n",
       "        vertical-align: top;\n",
       "    }\n",
       "\n",
       "    .dataframe thead th {\n",
       "        text-align: right;\n",
       "    }\n",
       "</style>\n",
       "<table border=\"1\" class=\"dataframe\">\n",
       "  <thead>\n",
       "    <tr style=\"text-align: right;\">\n",
       "      <th></th>\n",
       "      <th>Claim</th>\n",
       "      <th>Label</th>\n",
       "      <th>Evidence</th>\n",
       "      <th>Date</th>\n",
       "      <th>URL</th>\n",
       "    </tr>\n",
       "  </thead>\n",
       "  <tbody>\n",
       "    <tr>\n",
       "      <th>0</th>\n",
       "      <td>A Facebook user shared screenshots purportedly...</td>\n",
       "      <td>FALSE</td>\n",
       "      <td>DUBAWA first noticed that there was a period a...</td>\n",
       "      <td>25-04-2023</td>\n",
       "      <td>https://theinsight.com.ng/fact-checknews-headl...</td>\n",
       "    </tr>\n",
       "  </tbody>\n",
       "</table>\n",
       "</div>"
      ],
      "text/plain": [
       "                                               Claim  Label  \\\n",
       "0  A Facebook user shared screenshots purportedly...  FALSE   \n",
       "\n",
       "                                            Evidence        Date  \\\n",
       "0  DUBAWA first noticed that there was a period a...  25-04-2023   \n",
       "\n",
       "                                                 URL  \n",
       "0  https://theinsight.com.ng/fact-checknews-headl...  "
      ]
     },
     "execution_count": 3,
     "metadata": {},
     "output_type": "execute_result"
    }
   ],
   "source": [
    "import pandas as pd\n",
    "df = pd.DataFrame(manual, columns=['Claim', 'Label', 'Evidence', 'Date', 'URL'])\n",
    "pd.options.display.max_rows = None\n",
    "df"
   ]
  },
  {
   "cell_type": "code",
   "execution_count": 4,
   "id": "a49356f8",
   "metadata": {
    "ExecuteTime": {
     "end_time": "2023-04-30T09:41:19.930457Z",
     "start_time": "2023-04-30T09:41:19.915289Z"
    }
   },
   "outputs": [],
   "source": [
    "df.to_csv(\"theinsight.csv\", index=False)"
   ]
  }
 ],
 "metadata": {
  "kernelspec": {
   "display_name": "Python 3 (ipykernel)",
   "language": "python",
   "name": "python3"
  },
  "language_info": {
   "codemirror_mode": {
    "name": "ipython",
    "version": 3
   },
   "file_extension": ".py",
   "mimetype": "text/x-python",
   "name": "python",
   "nbconvert_exporter": "python",
   "pygments_lexer": "ipython3",
   "version": "3.8.5"
  }
 },
 "nbformat": 4,
 "nbformat_minor": 5
}
