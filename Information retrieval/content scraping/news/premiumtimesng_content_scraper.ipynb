{
 "cells": [
  {
   "cell_type": "markdown",
   "id": "48fffeff",
   "metadata": {},
   "source": [
    "# Index\n",
    "1. ### [Get list of URLs to parse](#URLlist)\n",
    "1. ### [Content scraping](#content)\n",
    "1. ### [Saving to CSV file](#export)"
   ]
  },
  {
   "cell_type": "markdown",
   "id": "91ec7ea6",
   "metadata": {},
   "source": [
    "<a id='URLlist'></a>\n",
    "\n",
    "## Get list of URLs to parse"
   ]
  },
  {
   "cell_type": "code",
   "execution_count": null,
   "id": "5ef17eec",
   "metadata": {},
   "outputs": [],
   "source": [
    "soup = BeautifulSoup(html, 'html.parser')\n",
    "aux = []\n",
    "links = [a_tag.get('href') for a_tag in soup.find_all('a')]\n",
    "prefix='https://africacheck.org/'\n",
    "for link in links:\n",
    "    try:\n",
    "        if link.startswith('/fact-checks'):"
   ]
  },
  {
   "cell_type": "code",
   "execution_count": 4,
   "id": "3dae3c84",
   "metadata": {
    "ExecuteTime": {
     "end_time": "2023-04-14T22:04:32.598025Z",
     "start_time": "2023-04-14T22:04:32.589470Z"
    }
   },
   "outputs": [],
   "source": [
    "import ast\n",
    "with open('premiumtimesng_fc_links.txt', 'r') as f:\n",
    "    file_contents = f.read()\n",
    "    fc_links = file_contents.split('\\n')"
   ]
  },
  {
   "cell_type": "code",
   "execution_count": 5,
   "id": "468ee791",
   "metadata": {
    "ExecuteTime": {
     "end_time": "2023-04-14T22:04:36.035457Z",
     "start_time": "2023-04-14T22:04:36.003928Z"
    }
   },
   "outputs": [
    {
     "data": {
      "text/plain": [
       "['https://www.premiumtimesng.com/business/business-news/593178-no-notification-about-otedolas-5-5-share-acquisition-yet-transcorp.html',\n",
       " 'https://www.premiumtimesng.com/regional/ssouth-west/592696-lagos-governorship-pdp-files-election-petition-wants-apc-lp-disqualified.html',\n",
       " 'https://www.premiumtimesng.com/news/592693-tinubu-apc-asks-election-tribunal-to-dismiss-obi-lps-petition-gives-reasons.html',\n",
       " 'https://www.premiumtimesng.com/news/592686-data-what-the-voting-pattern-in-2023-presidential-election-is-telling-us.html',\n",
       " 'https://www.premiumtimesng.com/news/top-news/591171-inec-to-conduct-supplementary-elections-in-over-2000-polling-units-across-24-states-full-list.html',\n",
       " 'https://www.premiumtimesng.com/news/top-news/590929-code-of-conduct-bureau-invites-keyamo-over-petition-against-atiku.html',\n",
       " 'https://www.premiumtimesng.com/news/590501-590501.html',\n",
       " 'https://www.premiumtimesng.com/news/more-news/590452-nigeriadecides2023-how-nigerians-voted-in-legislative-elections-report.html',\n",
       " 'https://www.premiumtimesng.com/news/top-news/590358-2023-elections-nigeria-police-apprehend-781-suspected-electoral-offenders.html',\n",
       " 'https://www.premiumtimesng.com/news/more-news/590074-apga-candidate-rejects-enugu-governorship-election-results.html',\n",
       " 'https://www.premiumtimesng.com/news/top-news/590017-appeal-court-dismisses-pdps-suit-against-tinubu-shettima-over-alleged-double-nomination.html',\n",
       " 'https://www.premiumtimesng.com/news/top-news/590015-alleged-suspension-plan-court-fixes-date-for-judgement-on-rivers-governor-elects-suit.html']"
      ]
     },
     "execution_count": 5,
     "metadata": {},
     "output_type": "execute_result"
    }
   ],
   "source": [
    "fc_links"
   ]
  },
  {
   "cell_type": "markdown",
   "id": "ef11334a",
   "metadata": {},
   "source": [
    "<a id='content'></a>\n",
    "\n",
    "## Content scraping\n",
    "#### Title, Article, Author, Date, URL"
   ]
  },
  {
   "cell_type": "code",
   "execution_count": 68,
   "id": "f5416570",
   "metadata": {
    "ExecuteTime": {
     "end_time": "2023-04-14T23:20:27.889519Z",
     "start_time": "2023-04-14T23:20:21.791195Z"
    }
   },
   "outputs": [],
   "source": [
    "import requests\n",
    "from bs4 import BeautifulSoup\n",
    "from datetime import datetime\n",
    "\n",
    "titles,articles,authors,dates,urls = [],[],[],[],[]\n",
    "\n",
    "for url in fc_links:\n",
    "    result = requests.get(url)\n",
    "    src = result.content     \n",
    "    soup = BeautifulSoup(src, 'html.parser')\n",
    "\n",
    "    ###### extract title ######\n",
    "\n",
    "    title = soup.find('h1', class_='jeg_post_title').get_text()\n",
    "    titles.append(title)\n",
    "\n",
    "\n",
    "\n",
    "    ###### extract article ######\n",
    "\n",
    "    article = ''\n",
    "    content = soup.find_all('p')\n",
    "\n",
    "    # ignore post-article paragraphs\n",
    "    for paragraph in content:\n",
    "        if 'Donate' in str(paragraph):\n",
    "            donate_index = content.index(paragraph)\n",
    "            content = content[1:donate_index]\n",
    "        else:\n",
    "            pass\n",
    "\n",
    "    # incremental build of article    \n",
    "    for paragraph in content:\n",
    "        article += str(paragraph.get_text())\n",
    "    articles.append(article)\n",
    "\n",
    "\n",
    "\n",
    "    ###### extract author ######\n",
    "    author = soup.find('div', class_='jeg_meta_author coauthor').get_text().split('by')[1]\n",
    "    authors.append(author)\n",
    "\n",
    "\n",
    "\n",
    "    ###### extract date ######\n",
    "    date = soup.find('div', class_='jeg_meta_date').get_text()\n",
    "    date_object = datetime.strptime(date.strip(), '%B %d, %Y')\n",
    "    formatted_date = date_object.strftime('%d/%m/%Y')\n",
    "    dates.append(formatted_date)\n",
    "    \n",
    "    \n",
    "    \n",
    "    ###### extract url ######\n",
    "    urls.append(url)\n",
    "\n",
    "\n",
    "everything = list(zip(titles, articles, authors, dates, urls))"
   ]
  },
  {
   "cell_type": "code",
   "execution_count": 76,
   "id": "e0b27ba1",
   "metadata": {
    "ExecuteTime": {
     "end_time": "2023-04-14T23:28:45.461980Z",
     "start_time": "2023-04-14T23:28:45.447348Z"
    }
   },
   "outputs": [
    {
     "data": {
      "text/plain": [
       "['https://www.premiumtimesng.com/business/business-news/593178-no-notification-about-otedolas-5-5-share-acquisition-yet-transcorp.html',\n",
       " 'https://www.premiumtimesng.com/regional/ssouth-west/592696-lagos-governorship-pdp-files-election-petition-wants-apc-lp-disqualified.html',\n",
       " 'https://www.premiumtimesng.com/news/592693-tinubu-apc-asks-election-tribunal-to-dismiss-obi-lps-petition-gives-reasons.html',\n",
       " 'https://www.premiumtimesng.com/news/592686-data-what-the-voting-pattern-in-2023-presidential-election-is-telling-us.html',\n",
       " 'https://www.premiumtimesng.com/news/top-news/591171-inec-to-conduct-supplementary-elections-in-over-2000-polling-units-across-24-states-full-list.html',\n",
       " 'https://www.premiumtimesng.com/news/top-news/590929-code-of-conduct-bureau-invites-keyamo-over-petition-against-atiku.html',\n",
       " 'https://www.premiumtimesng.com/news/590501-590501.html',\n",
       " 'https://www.premiumtimesng.com/news/more-news/590452-nigeriadecides2023-how-nigerians-voted-in-legislative-elections-report.html',\n",
       " 'https://www.premiumtimesng.com/news/top-news/590358-2023-elections-nigeria-police-apprehend-781-suspected-electoral-offenders.html',\n",
       " 'https://www.premiumtimesng.com/news/more-news/590074-apga-candidate-rejects-enugu-governorship-election-results.html',\n",
       " 'https://www.premiumtimesng.com/news/top-news/590017-appeal-court-dismisses-pdps-suit-against-tinubu-shettima-over-alleged-double-nomination.html',\n",
       " 'https://www.premiumtimesng.com/news/top-news/590015-alleged-suspension-plan-court-fixes-date-for-judgement-on-rivers-governor-elects-suit.html']"
      ]
     },
     "execution_count": 76,
     "metadata": {},
     "output_type": "execute_result"
    }
   ],
   "source": [
    "urls"
   ]
  },
  {
   "cell_type": "markdown",
   "id": "1dd00fa7",
   "metadata": {},
   "source": [
    "<a id='export'></a>\n",
    "\n",
    "## Saving to CSV file"
   ]
  },
  {
   "cell_type": "code",
   "execution_count": 72,
   "id": "890f15da",
   "metadata": {
    "ExecuteTime": {
     "end_time": "2023-04-14T23:22:41.282709Z",
     "start_time": "2023-04-14T23:22:39.387060Z"
    }
   },
   "outputs": [
    {
     "data": {
      "text/html": [
       "<div>\n",
       "<style scoped>\n",
       "    .dataframe tbody tr th:only-of-type {\n",
       "        vertical-align: middle;\n",
       "    }\n",
       "\n",
       "    .dataframe tbody tr th {\n",
       "        vertical-align: top;\n",
       "    }\n",
       "\n",
       "    .dataframe thead th {\n",
       "        text-align: right;\n",
       "    }\n",
       "</style>\n",
       "<table border=\"1\" class=\"dataframe\">\n",
       "  <thead>\n",
       "    <tr style=\"text-align: right;\">\n",
       "      <th></th>\n",
       "      <th>Title</th>\n",
       "      <th>Article</th>\n",
       "      <th>Author</th>\n",
       "      <th>Date</th>\n",
       "      <th>URL</th>\n",
       "    </tr>\n",
       "  </thead>\n",
       "  <tbody>\n",
       "    <tr>\n",
       "      <th>0</th>\n",
       "      <td>No notification about Otedola’s 5.5% share acq...</td>\n",
       "      <td>Transnational Corporation of Nigeria (Transcor...</td>\n",
       "      <td>Ronald Adamolekun</td>\n",
       "      <td>13/04/2023</td>\n",
       "      <td>https://www.premiumtimesng.com/business/busine...</td>\n",
       "    </tr>\n",
       "    <tr>\n",
       "      <th>1</th>\n",
       "      <td>Lagos Governorship: PDP files election petitio...</td>\n",
       "      <td>The Peoples Democratic Party (PDP) and its gov...</td>\n",
       "      <td>Agency Report</td>\n",
       "      <td>11/04/2023</td>\n",
       "      <td>https://www.premiumtimesng.com/regional/ssouth...</td>\n",
       "    </tr>\n",
       "    <tr>\n",
       "      <th>2</th>\n",
       "      <td>Tinubu: APC asks election tribunal to dismiss ...</td>\n",
       "      <td>The All Progressives Congress (APC), on Monday...</td>\n",
       "      <td>Agency Report</td>\n",
       "      <td>11/04/2023</td>\n",
       "      <td>https://www.premiumtimesng.com/news/592693-tin...</td>\n",
       "    </tr>\n",
       "    <tr>\n",
       "      <th>3</th>\n",
       "      <td>DATA: What the voting pattern in 2023 presiden...</td>\n",
       "      <td>On February 25, Nigerians went to the polls to...</td>\n",
       "      <td>Kabir Yusuf</td>\n",
       "      <td>11/04/2023</td>\n",
       "      <td>https://www.premiumtimesng.com/news/592686-dat...</td>\n",
       "    </tr>\n",
       "    <tr>\n",
       "      <th>4</th>\n",
       "      <td>INEC to conduct supplementary elections in ove...</td>\n",
       "      <td>Nigeria’s electoral commission, INEC, will on ...</td>\n",
       "      <td>Qosim Suleiman</td>\n",
       "      <td>01/04/2023</td>\n",
       "      <td>https://www.premiumtimesng.com/news/top-news/5...</td>\n",
       "    </tr>\n",
       "    <tr>\n",
       "      <th>5</th>\n",
       "      <td>Code of Conduct Bureau invites Keyamo over pet...</td>\n",
       "      <td>The Code of Conduct Bureau (CCB) has commenced...</td>\n",
       "      <td>Bakare Majeed</td>\n",
       "      <td>30/03/2023</td>\n",
       "      <td>https://www.premiumtimesng.com/news/top-news/5...</td>\n",
       "    </tr>\n",
       "    <tr>\n",
       "      <th>6</th>\n",
       "      <td>ANALYSIS: Politicians facing bleak future afte...</td>\n",
       "      <td>The 2023 general elections are over, save for ...</td>\n",
       "      <td>Temidayo Akinboyo</td>\n",
       "      <td>29/03/2023</td>\n",
       "      <td>https://www.premiumtimesng.com/news/590501-590...</td>\n",
       "    </tr>\n",
       "    <tr>\n",
       "      <th>7</th>\n",
       "      <td>#NigeriaDecides2023: How Nigerians voted in le...</td>\n",
       "      <td>A civil society organisation, OrderPaper Advoc...</td>\n",
       "      <td>Bakare Majeed</td>\n",
       "      <td>28/03/2023</td>\n",
       "      <td>https://www.premiumtimesng.com/news/more-news/...</td>\n",
       "    </tr>\n",
       "    <tr>\n",
       "      <th>8</th>\n",
       "      <td>2023 Elections: Nigeria police apprehend 781 s...</td>\n",
       "      <td>The Nigeria Police Force arrested a total of 7...</td>\n",
       "      <td>Mohammed Babangida</td>\n",
       "      <td>27/03/2023</td>\n",
       "      <td>https://www.premiumtimesng.com/news/top-news/5...</td>\n",
       "    </tr>\n",
       "    <tr>\n",
       "      <th>9</th>\n",
       "      <td>APGA candidate rejects Enugu governorship elec...</td>\n",
       "      <td>The governorship candidate of the All Progress...</td>\n",
       "      <td>Chinagorom Ugwu</td>\n",
       "      <td>25/03/2023</td>\n",
       "      <td>https://www.premiumtimesng.com/news/more-news/...</td>\n",
       "    </tr>\n",
       "    <tr>\n",
       "      <th>10</th>\n",
       "      <td>Appeal Court dismisses PDP’s suit against Tinu...</td>\n",
       "      <td>The Court of Appeal, Abuja, Friday evening, di...</td>\n",
       "      <td>Agency Report</td>\n",
       "      <td>25/03/2023</td>\n",
       "      <td>https://www.premiumtimesng.com/news/top-news/5...</td>\n",
       "    </tr>\n",
       "    <tr>\n",
       "      <th>11</th>\n",
       "      <td>Alleged Suspension Plan: Court fixes date for ...</td>\n",
       "      <td>The Federal High Court (FHC), Abuja, on Friday...</td>\n",
       "      <td>Agency Report</td>\n",
       "      <td>25/03/2023</td>\n",
       "      <td>https://www.premiumtimesng.com/news/top-news/5...</td>\n",
       "    </tr>\n",
       "  </tbody>\n",
       "</table>\n",
       "</div>"
      ],
      "text/plain": [
       "                                                Title  \\\n",
       "0   No notification about Otedola’s 5.5% share acq...   \n",
       "1   Lagos Governorship: PDP files election petitio...   \n",
       "2   Tinubu: APC asks election tribunal to dismiss ...   \n",
       "3   DATA: What the voting pattern in 2023 presiden...   \n",
       "4   INEC to conduct supplementary elections in ove...   \n",
       "5   Code of Conduct Bureau invites Keyamo over pet...   \n",
       "6   ANALYSIS: Politicians facing bleak future afte...   \n",
       "7   #NigeriaDecides2023: How Nigerians voted in le...   \n",
       "8   2023 Elections: Nigeria police apprehend 781 s...   \n",
       "9   APGA candidate rejects Enugu governorship elec...   \n",
       "10  Appeal Court dismisses PDP’s suit against Tinu...   \n",
       "11  Alleged Suspension Plan: Court fixes date for ...   \n",
       "\n",
       "                                              Article               Author  \\\n",
       "0   Transnational Corporation of Nigeria (Transcor...   Ronald Adamolekun    \n",
       "1   The Peoples Democratic Party (PDP) and its gov...       Agency Report    \n",
       "2   The All Progressives Congress (APC), on Monday...       Agency Report    \n",
       "3   On February 25, Nigerians went to the polls to...         Kabir Yusuf    \n",
       "4   Nigeria’s electoral commission, INEC, will on ...      Qosim Suleiman    \n",
       "5   The Code of Conduct Bureau (CCB) has commenced...       Bakare Majeed    \n",
       "6   The 2023 general elections are over, save for ...   Temidayo Akinboyo    \n",
       "7   A civil society organisation, OrderPaper Advoc...       Bakare Majeed    \n",
       "8   The Nigeria Police Force arrested a total of 7...  Mohammed Babangida    \n",
       "9   The governorship candidate of the All Progress...     Chinagorom Ugwu    \n",
       "10  The Court of Appeal, Abuja, Friday evening, di...       Agency Report    \n",
       "11  The Federal High Court (FHC), Abuja, on Friday...       Agency Report    \n",
       "\n",
       "          Date                                                URL  \n",
       "0   13/04/2023  https://www.premiumtimesng.com/business/busine...  \n",
       "1   11/04/2023  https://www.premiumtimesng.com/regional/ssouth...  \n",
       "2   11/04/2023  https://www.premiumtimesng.com/news/592693-tin...  \n",
       "3   11/04/2023  https://www.premiumtimesng.com/news/592686-dat...  \n",
       "4   01/04/2023  https://www.premiumtimesng.com/news/top-news/5...  \n",
       "5   30/03/2023  https://www.premiumtimesng.com/news/top-news/5...  \n",
       "6   29/03/2023  https://www.premiumtimesng.com/news/590501-590...  \n",
       "7   28/03/2023  https://www.premiumtimesng.com/news/more-news/...  \n",
       "8   27/03/2023  https://www.premiumtimesng.com/news/top-news/5...  \n",
       "9   25/03/2023  https://www.premiumtimesng.com/news/more-news/...  \n",
       "10  25/03/2023  https://www.premiumtimesng.com/news/top-news/5...  \n",
       "11  25/03/2023  https://www.premiumtimesng.com/news/top-news/5...  "
      ]
     },
     "execution_count": 72,
     "metadata": {},
     "output_type": "execute_result"
    }
   ],
   "source": [
    "import pandas as pd\n",
    "df = pd.DataFrame.from_records(everything, columns=[\"Title\", \"Article\", \"Author\", \"Date\", \"URL\"])\n",
    "pd.options.display.max_rows = None\n",
    "df"
   ]
  },
  {
   "cell_type": "code",
   "execution_count": 73,
   "id": "dab9e8c9",
   "metadata": {
    "ExecuteTime": {
     "end_time": "2023-04-14T23:23:13.660221Z",
     "start_time": "2023-04-14T23:23:13.626106Z"
    }
   },
   "outputs": [],
   "source": [
    "df.to_csv(\"premiumtimesng.csv\", index=False)"
   ]
  }
 ],
 "metadata": {
  "kernelspec": {
   "display_name": "Python 3 (ipykernel)",
   "language": "python",
   "name": "python3"
  },
  "language_info": {
   "codemirror_mode": {
    "name": "ipython",
    "version": 3
   },
   "file_extension": ".py",
   "mimetype": "text/x-python",
   "name": "python",
   "nbconvert_exporter": "python",
   "pygments_lexer": "ipython3",
   "version": "3.8.5"
  }
 },
 "nbformat": 4,
 "nbformat_minor": 5
}
