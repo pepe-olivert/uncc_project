{
  "nbformat": 4,
  "nbformat_minor": 0,
  "metadata": {
    "colab": {
      "provenance": [],
      "authorship_tag": "ABX9TyMFk/v33NDJ7v4Cr3AzXRnA",
      "include_colab_link": true
    },
    "kernelspec": {
      "name": "python3",
      "display_name": "Python 3"
    },
    "language_info": {
      "name": "python"
    }
  },
  "cells": [
    {
      "cell_type": "markdown",
      "metadata": {
        "id": "view-in-github",
        "colab_type": "text"
      },
      "source": [
        "<a href=\"https://colab.research.google.com/github/pepe-olivert/unicc_project/blob/HugoA/EvidenceSelection.ipynb\" target=\"_parent\"><img src=\"https://colab.research.google.com/assets/colab-badge.svg\" alt=\"Open In Colab\"/></a>"
      ]
    },
    {
      "cell_type": "markdown",
      "source": [
        "## Some sentences for examples"
      ],
      "metadata": {
        "id": "RtT-iIaFZS6m"
      }
    },
    {
      "cell_type": "code",
      "source": [
        "frases = ['iVerify Zambia has fact-checked the claim by Zed Diary Facebook Page to establish if Mr. Edgar Chagwa Lungu had indeed stated in an interview that President Hakainde Hichilema had lied his way to power.',\n",
        " 'Our verification process has found that indeed Mr. Lungu had said that some people lied their way to power, but did not refer to President Hakainde Hichilema by  name in his statement during the interview.',\n",
        " 'Therefore, the claim by Zed Dairy  that Mr. Lungu had  stated that  President Hakainde Hichilema had lied his way into power, is misleading.',\n",
        " 'It is false that former President of the Republic of Zambia Mr Edgar Chagwa Lungu accused the current Republican President, Mr. Hakainde Hichilema of being a hypocrite who does say one thing and does another.',\n",
        " 'Mr. Lungu did not mention President Hichilema or any other alleged “hypocrite”.',\n",
        " 'After the burial of the late former President Mr Rupiah Banda, while responding to a journalist’s question on lessons learnt from Mr Banda’s life, Mr Lungu said “we should learn to dialogue honestly with one another …there is no need for hypocrisy where people say good things but do bad things”.',\n",
        " 'In a short video clip watched by iVerify, Mr. Lungu uses the word hypocrisy but does not mention President Hakainde Hichilema.',\n",
        " 'It is true that Mr. Hakainde Hichilema won the Presidential election with a landslide victory.',\n",
        " 'Although the Electoral Commission of Zambia formally declared him a winner in the early hours of 16th August 2021, some candidates had already confirmed his victory on 13th August 2021, a day after the General elections.',\n",
        " 'They claimed their confirmation was based on results from polling stations, and went on to concede defeat, before the official results were announced, and endorsed the United Party for National Development (UPND) candidate, Hakainde Hichilema as a winner.',\n",
        " 'However, regardless of the predictions made, the Electoral commission of Zambia is the only body that is legally mandated to declare a candidate as a president after following proper and orderly way of the electoral process.',\n",
        " 'In the early hours of Monday 16th August, 2021, the Electoral Commission of Zambia declared Mr. Hakainde Hichilema as President elect, after consolidating results that kept him in the lead with the a total number 2,810,757 votes, followed by Mr. Edgar Chagwa Lungu with 1,814,201 votes.',\n",
        " 'Furthermore on 16th August, 2021, outgoing President Mr. Edgar Chagwa Lungu conceded defeat at around 12hrs and congratulated the incoming president elect Mr. Hakainde Hichilema.',\n",
        " 'The iVerify Zambia has determined as false the claim by the Koswe Facebook page that Zambia’s former Republican President, Dr Edgar Chagwa Lungu had  declared himself ready for the 2026 General Elections and that he was determined to remove the current Republican President, Mr. Hakainde Hichilema from office.',\n",
        " 'The video clip alleged to be recent was taken 3 years ago during a memorial service for the late Republican President, Mr. Michael Chilufya Sata.',\n",
        " 'iVerify Zambia contacted former Zambia’s Ambassador to Ethiopia and an aspiring candidate for the Presidency of the Patriotic Front party, Honorable Emmanuel Mwamba refuted the claims by Koswe, confirming that the video clip was indeed taken in 2021 during the memorial service for the late President Michael Chilufya Sata.',\n",
        " 'The fact checking process has determined as misleading the claim that over 573 health workers have been fired.',\n",
        " 'The previous Patriotic Front Government led by former President Edgar Chagwa Lungu, through support from the World Bank and other cooperating partners, contracted additional health workers to support the mainstream health staff in the fight against Covid-19 across the country for a period of three (3) months.',\n",
        " 'This was to strengthen the Government’s response to the pandemic in the wake of an increase in cases and deaths during the third wave.',\n",
        " 'The commencement of the contract was on the 22nd June, 2021, and it was set to end on the 24th September, 2021.',\n",
        " 'The termination of the contract was foreseen, and can therefore not be considered ‘firing’.',\n",
        " 'The iVerify fact checking team contacted some health workers who affirmed that their contracts were only for a period of three (3) months, and were to end on 24th September, 2021.',\n",
        " 'As part of the verification, the iVerify fact checking process also reviewed some contract documents for the health workers, which affirmed the statement.',\n",
        " 'The Fact-Checking process has determined as true that criminals have been involved in the illegal acts of destruction and stealing of public and private property across the country.',\n",
        " 'The attacks were carried out on those believed to be affiliated to the former ruling party, the Patriotic Front.',\n",
        " 'A video report by the Zambia National Broadcasting Corporation (ZNBC) analyzed by the Fact-Checking team confirm that several shops at the Edgar Chagwa Lungu Mall in Kitwe were broken into in the early hours of 16th August, 2021 and goods worth millions of Kwacha looted, as people were celebrating President Elect Hakainde Hichilema’s victory in the 12th August general election.',\n",
        " 'In a separate incident, criminal acts were recorded on the 16th August, were unknown people vandalized mobile money transaction booths in Lusaka’s central business district immediately after the Eletoral Commission of Zambia (ECZ) officially announced UPND’s Hakainde Hichilema as the winner of Zambia’s General elections.',\n",
        " 'The iVerify Fact-Checking team further fact checked a video report by Victoria Kayeye and Memory Nyambe from Diamond TV entitled ‘Post Elections,’ which confirmed an incident where the Patriotic Front Secretariat property was stolen and destroyed.',\n",
        " 'Following the events, the Inspector General of Police Kakoma Kanganja  issued a statement where he directed all police officers to ensure that they act swiftly and bring to a stop the prevailing violence and criminal acts.',\n",
        " 'According to a Wednesday, August 18, 2021, Daily Nation Newspaper, Vol.7 issue 3026, Police Spokesperson, Ms. Katongo noted that criminals were taking advantage of the victory celebrations and want to act as cadres.',\n",
        " 'She further confirmed that 15 people have been arrested in connection with the violence and looting in Lusaka and ECL mall in Kitwe, and that the police are following up on culprits that took part in the looting.',\n",
        " 'The fact checking process has established as inconclusive the claim by Mr. Mwanza that PF North Western Provincial Chairperson Mr. Jackson Kungo had been murdered by UPND cadres.',\n",
        " 'While the death of Mr. Kungo was confirmed by the Police and other stakeholders, the fact checking process could not find any verifiable evidence that Mr Kungo was killed by UPND cadres and that he was delivering voter registers.',\n",
        " 'In a statement on 12th August 2021, President Edgar Chagwa Lungu confirmed that PF Chairman Jackson Kungo died in the afternoon of 12th August 2021.',\n",
        " 'The PF said at the time of his attack, Mr Kungo had been sent to distribute voter registers to the PF monitors at Kyawama polling station in Solwezi.',\n",
        " 'However, contrary to that statement, the Northwestern Province Police Commissioner stated that Mr. Kungo went to vote at Kyawama polling station when it was suspected that he was carrying pre-marked ballot papers, before the residents pounced on him.',\n",
        " 'A call with a polling monitor further disputes this allegation by the police that Mr Kungo was set to vote at Kyawama polling station as he was not registered to vote from there.',\n",
        " 'There are therefor three different versions of Mr. Kungo’s presence at the polling station.',\n",
        " 'iVerify cannot confirm that the group of voters are UPND cadres or affiliated to UPND or any other political party because there is no proof that the alleged mob was dressed in UPND regalia nor identified themselves as such.',\n",
        " 'An analysis carried out by iVerify shows that one of the polling day offences by the Electoral Commission of Zambia (ECZ) includes putting up a political notice or sign or being clad in political regalia within a radius of 100 meters of a polling station during polling day.',\n",
        " 'It would therefore render it difficult or close to impossible to have an individual in political regalia at a polling station.',\n",
        " 'To confirm this, iVerify made a call to a polling assistant at Kyawama polling station who confirmed that no voter was allowed entry into the polling station whilst clad in or being in possession of political regalia or sign, conclusively disqualifying any claims of political identification.']"
      ],
      "metadata": {
        "id": "Y34TaX_tPqqF"
      },
      "execution_count": 5,
      "outputs": []
    },
    {
      "cell_type": "markdown",
      "source": [
        "## Creating the class"
      ],
      "metadata": {
        "id": "qGw41OGWPP_U"
      }
    },
    {
      "cell_type": "code",
      "source": [
        "import nltk\n",
        "nltk.download('punkt')\n",
        "!pip install -U sentence_transformers\n",
        "from transformers import AutoTokenizer, AutoModel,AutoModelForTokenClassification,AutoModelForSequenceClassification,T5Tokenizer, T5ForConditionalGeneration, TrainingArguments, AdamW\n",
        "import torch\n",
        "import torch.nn.functional as F\n",
        "!pip install -U whoosh\n",
        "!pip install -U keybert\n",
        "from whoosh.index import open_dir\n",
        "from sentence_transformers import SentenceTransformer\n",
        "from whoosh.qparser import QueryParser\n",
        "from sklearn.metrics.pairwise import cosine_similarity\n",
        "from keybert import KeyBERT\n",
        "import numpy as np\n",
        "import pandas as pd\n",
        "from sklearn.model_selection import train_test_split\n",
        "from torch.utils.data import TensorDataset, DataLoader\n",
        "import torch.nn as nn"
      ],
      "metadata": {
        "colab": {
          "base_uri": "https://localhost:8080/"
        },
        "id": "e8puk_JTSg_M",
        "outputId": "961b6bd8-f86d-4f67-adea-282348eabea0"
      },
      "execution_count": 2,
      "outputs": [
        {
          "output_type": "stream",
          "name": "stderr",
          "text": [
            "[nltk_data] Downloading package punkt to /root/nltk_data...\n",
            "[nltk_data]   Package punkt is already up-to-date!\n"
          ]
        },
        {
          "output_type": "stream",
          "name": "stdout",
          "text": [
            "Looking in indexes: https://pypi.org/simple, https://us-python.pkg.dev/colab-wheels/public/simple/\n",
            "Requirement already satisfied: sentence_transformers in /usr/local/lib/python3.9/dist-packages (2.2.2)\n",
            "Requirement already satisfied: huggingface-hub>=0.4.0 in /usr/local/lib/python3.9/dist-packages (from sentence_transformers) (0.13.4)\n",
            "Requirement already satisfied: nltk in /usr/local/lib/python3.9/dist-packages (from sentence_transformers) (3.8.1)\n",
            "Requirement already satisfied: tqdm in /usr/local/lib/python3.9/dist-packages (from sentence_transformers) (4.65.0)\n",
            "Requirement already satisfied: scikit-learn in /usr/local/lib/python3.9/dist-packages (from sentence_transformers) (1.2.2)\n",
            "Requirement already satisfied: scipy in /usr/local/lib/python3.9/dist-packages (from sentence_transformers) (1.10.1)\n",
            "Requirement already satisfied: sentencepiece in /usr/local/lib/python3.9/dist-packages (from sentence_transformers) (0.1.97)\n",
            "Requirement already satisfied: transformers<5.0.0,>=4.6.0 in /usr/local/lib/python3.9/dist-packages (from sentence_transformers) (4.27.4)\n",
            "Requirement already satisfied: torch>=1.6.0 in /usr/local/lib/python3.9/dist-packages (from sentence_transformers) (2.0.0+cu118)\n",
            "Requirement already satisfied: torchvision in /usr/local/lib/python3.9/dist-packages (from sentence_transformers) (0.15.1+cu118)\n",
            "Requirement already satisfied: numpy in /usr/local/lib/python3.9/dist-packages (from sentence_transformers) (1.22.4)\n",
            "Requirement already satisfied: requests in /usr/local/lib/python3.9/dist-packages (from huggingface-hub>=0.4.0->sentence_transformers) (2.27.1)\n",
            "Requirement already satisfied: filelock in /usr/local/lib/python3.9/dist-packages (from huggingface-hub>=0.4.0->sentence_transformers) (3.10.7)\n",
            "Requirement already satisfied: typing-extensions>=3.7.4.3 in /usr/local/lib/python3.9/dist-packages (from huggingface-hub>=0.4.0->sentence_transformers) (4.5.0)\n",
            "Requirement already satisfied: packaging>=20.9 in /usr/local/lib/python3.9/dist-packages (from huggingface-hub>=0.4.0->sentence_transformers) (23.0)\n",
            "Requirement already satisfied: pyyaml>=5.1 in /usr/local/lib/python3.9/dist-packages (from huggingface-hub>=0.4.0->sentence_transformers) (6.0)\n",
            "Requirement already satisfied: networkx in /usr/local/lib/python3.9/dist-packages (from torch>=1.6.0->sentence_transformers) (3.0)\n",
            "Requirement already satisfied: triton==2.0.0 in /usr/local/lib/python3.9/dist-packages (from torch>=1.6.0->sentence_transformers) (2.0.0)\n",
            "Requirement already satisfied: jinja2 in /usr/local/lib/python3.9/dist-packages (from torch>=1.6.0->sentence_transformers) (3.1.2)\n",
            "Requirement already satisfied: sympy in /usr/local/lib/python3.9/dist-packages (from torch>=1.6.0->sentence_transformers) (1.11.1)\n",
            "Requirement already satisfied: cmake in /usr/local/lib/python3.9/dist-packages (from triton==2.0.0->torch>=1.6.0->sentence_transformers) (3.25.2)\n",
            "Requirement already satisfied: lit in /usr/local/lib/python3.9/dist-packages (from triton==2.0.0->torch>=1.6.0->sentence_transformers) (16.0.0)\n",
            "Requirement already satisfied: tokenizers!=0.11.3,<0.14,>=0.11.1 in /usr/local/lib/python3.9/dist-packages (from transformers<5.0.0,>=4.6.0->sentence_transformers) (0.13.3)\n",
            "Requirement already satisfied: regex!=2019.12.17 in /usr/local/lib/python3.9/dist-packages (from transformers<5.0.0,>=4.6.0->sentence_transformers) (2022.10.31)\n",
            "Requirement already satisfied: joblib in /usr/local/lib/python3.9/dist-packages (from nltk->sentence_transformers) (1.1.1)\n",
            "Requirement already satisfied: click in /usr/local/lib/python3.9/dist-packages (from nltk->sentence_transformers) (8.1.3)\n",
            "Requirement already satisfied: threadpoolctl>=2.0.0 in /usr/local/lib/python3.9/dist-packages (from scikit-learn->sentence_transformers) (3.1.0)\n",
            "Requirement already satisfied: pillow!=8.3.*,>=5.3.0 in /usr/local/lib/python3.9/dist-packages (from torchvision->sentence_transformers) (8.4.0)\n",
            "Requirement already satisfied: MarkupSafe>=2.0 in /usr/local/lib/python3.9/dist-packages (from jinja2->torch>=1.6.0->sentence_transformers) (2.1.2)\n",
            "Requirement already satisfied: urllib3<1.27,>=1.21.1 in /usr/local/lib/python3.9/dist-packages (from requests->huggingface-hub>=0.4.0->sentence_transformers) (1.26.15)\n",
            "Requirement already satisfied: certifi>=2017.4.17 in /usr/local/lib/python3.9/dist-packages (from requests->huggingface-hub>=0.4.0->sentence_transformers) (2022.12.7)\n",
            "Requirement already satisfied: charset-normalizer~=2.0.0 in /usr/local/lib/python3.9/dist-packages (from requests->huggingface-hub>=0.4.0->sentence_transformers) (2.0.12)\n",
            "Requirement already satisfied: idna<4,>=2.5 in /usr/local/lib/python3.9/dist-packages (from requests->huggingface-hub>=0.4.0->sentence_transformers) (3.4)\n",
            "Requirement already satisfied: mpmath>=0.19 in /usr/local/lib/python3.9/dist-packages (from sympy->torch>=1.6.0->sentence_transformers) (1.3.0)\n",
            "Looking in indexes: https://pypi.org/simple, https://us-python.pkg.dev/colab-wheels/public/simple/\n",
            "Requirement already satisfied: whoosh in /usr/local/lib/python3.9/dist-packages (2.7.4)\n",
            "Looking in indexes: https://pypi.org/simple, https://us-python.pkg.dev/colab-wheels/public/simple/\n",
            "Requirement already satisfied: keybert in /usr/local/lib/python3.9/dist-packages (0.7.0)\n",
            "Requirement already satisfied: rich>=10.4.0 in /usr/local/lib/python3.9/dist-packages (from keybert) (13.3.3)\n",
            "Requirement already satisfied: sentence-transformers>=0.3.8 in /usr/local/lib/python3.9/dist-packages (from keybert) (2.2.2)\n",
            "Requirement already satisfied: scikit-learn>=0.22.2 in /usr/local/lib/python3.9/dist-packages (from keybert) (1.2.2)\n",
            "Requirement already satisfied: numpy>=1.18.5 in /usr/local/lib/python3.9/dist-packages (from keybert) (1.22.4)\n",
            "Requirement already satisfied: markdown-it-py<3.0.0,>=2.2.0 in /usr/local/lib/python3.9/dist-packages (from rich>=10.4.0->keybert) (2.2.0)\n",
            "Requirement already satisfied: pygments<3.0.0,>=2.13.0 in /usr/local/lib/python3.9/dist-packages (from rich>=10.4.0->keybert) (2.14.0)\n",
            "Requirement already satisfied: scipy>=1.3.2 in /usr/local/lib/python3.9/dist-packages (from scikit-learn>=0.22.2->keybert) (1.10.1)\n",
            "Requirement already satisfied: threadpoolctl>=2.0.0 in /usr/local/lib/python3.9/dist-packages (from scikit-learn>=0.22.2->keybert) (3.1.0)\n",
            "Requirement already satisfied: joblib>=1.1.1 in /usr/local/lib/python3.9/dist-packages (from scikit-learn>=0.22.2->keybert) (1.1.1)\n",
            "Requirement already satisfied: nltk in /usr/local/lib/python3.9/dist-packages (from sentence-transformers>=0.3.8->keybert) (3.8.1)\n",
            "Requirement already satisfied: torchvision in /usr/local/lib/python3.9/dist-packages (from sentence-transformers>=0.3.8->keybert) (0.15.1+cu118)\n",
            "Requirement already satisfied: tqdm in /usr/local/lib/python3.9/dist-packages (from sentence-transformers>=0.3.8->keybert) (4.65.0)\n",
            "Requirement already satisfied: huggingface-hub>=0.4.0 in /usr/local/lib/python3.9/dist-packages (from sentence-transformers>=0.3.8->keybert) (0.13.4)\n",
            "Requirement already satisfied: transformers<5.0.0,>=4.6.0 in /usr/local/lib/python3.9/dist-packages (from sentence-transformers>=0.3.8->keybert) (4.27.4)\n",
            "Requirement already satisfied: torch>=1.6.0 in /usr/local/lib/python3.9/dist-packages (from sentence-transformers>=0.3.8->keybert) (2.0.0+cu118)\n",
            "Requirement already satisfied: sentencepiece in /usr/local/lib/python3.9/dist-packages (from sentence-transformers>=0.3.8->keybert) (0.1.97)\n",
            "Requirement already satisfied: requests in /usr/local/lib/python3.9/dist-packages (from huggingface-hub>=0.4.0->sentence-transformers>=0.3.8->keybert) (2.27.1)\n",
            "Requirement already satisfied: pyyaml>=5.1 in /usr/local/lib/python3.9/dist-packages (from huggingface-hub>=0.4.0->sentence-transformers>=0.3.8->keybert) (6.0)\n",
            "Requirement already satisfied: packaging>=20.9 in /usr/local/lib/python3.9/dist-packages (from huggingface-hub>=0.4.0->sentence-transformers>=0.3.8->keybert) (23.0)\n",
            "Requirement already satisfied: typing-extensions>=3.7.4.3 in /usr/local/lib/python3.9/dist-packages (from huggingface-hub>=0.4.0->sentence-transformers>=0.3.8->keybert) (4.5.0)\n",
            "Requirement already satisfied: filelock in /usr/local/lib/python3.9/dist-packages (from huggingface-hub>=0.4.0->sentence-transformers>=0.3.8->keybert) (3.10.7)\n",
            "Requirement already satisfied: mdurl~=0.1 in /usr/local/lib/python3.9/dist-packages (from markdown-it-py<3.0.0,>=2.2.0->rich>=10.4.0->keybert) (0.1.2)\n",
            "Requirement already satisfied: jinja2 in /usr/local/lib/python3.9/dist-packages (from torch>=1.6.0->sentence-transformers>=0.3.8->keybert) (3.1.2)\n",
            "Requirement already satisfied: sympy in /usr/local/lib/python3.9/dist-packages (from torch>=1.6.0->sentence-transformers>=0.3.8->keybert) (1.11.1)\n",
            "Requirement already satisfied: networkx in /usr/local/lib/python3.9/dist-packages (from torch>=1.6.0->sentence-transformers>=0.3.8->keybert) (3.0)\n",
            "Requirement already satisfied: triton==2.0.0 in /usr/local/lib/python3.9/dist-packages (from torch>=1.6.0->sentence-transformers>=0.3.8->keybert) (2.0.0)\n",
            "Requirement already satisfied: cmake in /usr/local/lib/python3.9/dist-packages (from triton==2.0.0->torch>=1.6.0->sentence-transformers>=0.3.8->keybert) (3.25.2)\n",
            "Requirement already satisfied: lit in /usr/local/lib/python3.9/dist-packages (from triton==2.0.0->torch>=1.6.0->sentence-transformers>=0.3.8->keybert) (16.0.0)\n",
            "Requirement already satisfied: regex!=2019.12.17 in /usr/local/lib/python3.9/dist-packages (from transformers<5.0.0,>=4.6.0->sentence-transformers>=0.3.8->keybert) (2022.10.31)\n",
            "Requirement already satisfied: tokenizers!=0.11.3,<0.14,>=0.11.1 in /usr/local/lib/python3.9/dist-packages (from transformers<5.0.0,>=4.6.0->sentence-transformers>=0.3.8->keybert) (0.13.3)\n",
            "Requirement already satisfied: click in /usr/local/lib/python3.9/dist-packages (from nltk->sentence-transformers>=0.3.8->keybert) (8.1.3)\n",
            "Requirement already satisfied: pillow!=8.3.*,>=5.3.0 in /usr/local/lib/python3.9/dist-packages (from torchvision->sentence-transformers>=0.3.8->keybert) (8.4.0)\n",
            "Requirement already satisfied: MarkupSafe>=2.0 in /usr/local/lib/python3.9/dist-packages (from jinja2->torch>=1.6.0->sentence-transformers>=0.3.8->keybert) (2.1.2)\n",
            "Requirement already satisfied: urllib3<1.27,>=1.21.1 in /usr/local/lib/python3.9/dist-packages (from requests->huggingface-hub>=0.4.0->sentence-transformers>=0.3.8->keybert) (1.26.15)\n",
            "Requirement already satisfied: idna<4,>=2.5 in /usr/local/lib/python3.9/dist-packages (from requests->huggingface-hub>=0.4.0->sentence-transformers>=0.3.8->keybert) (3.4)\n",
            "Requirement already satisfied: certifi>=2017.4.17 in /usr/local/lib/python3.9/dist-packages (from requests->huggingface-hub>=0.4.0->sentence-transformers>=0.3.8->keybert) (2022.12.7)\n",
            "Requirement already satisfied: charset-normalizer~=2.0.0 in /usr/local/lib/python3.9/dist-packages (from requests->huggingface-hub>=0.4.0->sentence-transformers>=0.3.8->keybert) (2.0.12)\n",
            "Requirement already satisfied: mpmath>=0.19 in /usr/local/lib/python3.9/dist-packages (from sympy->torch>=1.6.0->sentence-transformers>=0.3.8->keybert) (1.3.0)\n"
          ]
        }
      ]
    },
    {
      "cell_type": "code",
      "source": [
        "class Fact_checking_module: #Con MiniLM (más rápido, menos preciso) o con SBERT (más preciso, más lento)\n",
        "\n",
        "  #Download models for sentence similarity\n",
        "  tokenizerMiniLM = AutoTokenizer.from_pretrained('sentence-transformers/all-MiniLM-L6-v2')\n",
        "  modelMiniLM = AutoModel.from_pretrained('sentence-transformers/all-MiniLM-L6-v2')\n",
        "\n",
        "  #Instance of the keywords model\n",
        "  kw_model = KeyBERT()\n",
        "\n",
        "  #Download SBERT for selecting the top N evidences\n",
        "  modelSBERT = SentenceTransformer('mitra-mir/setfit-model-Feb11-Misinformation-on-Media-Traditional-Social')\n",
        "\n",
        "  #Download roBERTa for sentence similarity\n",
        "  tokenizerRoberta = AutoTokenizer.from_pretrained('sentence-transformers/stsb-roberta-large')\n",
        "  modelRoberta = AutoModel.from_pretrained('sentence-transformers/stsb-roberta-large')\n",
        "\n",
        "  def __init__(self):\n",
        "    pass\n",
        "\n",
        "  #Mean Pooling - Take attention mask into account for correct averaging\n",
        "  def mean_pooling(self, model_output, attention_mask):\n",
        "      \"\"\"This method performs a mean pooling operation on the output of a language model.\n",
        "      It takes as input the output of the model (which should contain embeddings for each token in the input sequence)\n",
        "      and an attention mask indicating which tokens should be attended to. It returns the mean of the embeddings of the\n",
        "      unmasked tokens in the input sequence.\"\"\"\n",
        "\n",
        "      # Extract token embeddings from the model output\n",
        "      token_embeddings = model_output[0] #First element of model_output contains all token embeddings\n",
        "\n",
        "      # Expand the attention mask tensor to have the same shape as the token embeddings tensor,\n",
        "      # to enable element-wise multiplication with the embeddings tensor\n",
        "      input_mask_expanded = attention_mask.unsqueeze(-1).expand(token_embeddings.size()).float()\n",
        "\n",
        "      # Compute the sum of the element-wise product of the embeddings tensor and the expanded attention mask tensor\n",
        "      # along the second dimension (i.e., the tokens dimension), to zero out the embeddings corresponding to masked tokens.\n",
        "      # Then divide the result by the sum of the expanded attention mask tensor along the second dimension, to get\n",
        "      # the mean of the embeddings of the unmasked tokens in the input sequence.\n",
        "      return torch.sum(token_embeddings * input_mask_expanded, 1) / torch.clamp(input_mask_expanded.sum(1), min=1e-9)\n",
        "\n",
        "  def add_evidences(self, claim:str, texts:list, threshold:float = 0.5, model_selection:str = 'mini')->list:\n",
        "    sentences = [claim]\n",
        "    for text in texts:\n",
        "      text = text.replace('\\n', ' ')\n",
        "      sent_list = nltk.tokenize.sent_tokenize(text)\n",
        "      sentences = sentences + sent_list\n",
        "    if model_selection == 'mini':\n",
        "      encoded_input = Fact_checking_module.tokenizerMiniLM(sentences, padding=True, truncation=True, return_tensors='pt')\n",
        "\n",
        "      # Compute token embeddings\n",
        "      with torch.no_grad():\n",
        "          model_output = Fact_checking_module.modelMiniLM(**encoded_input)\n",
        "\n",
        "      # Perform pooling\n",
        "      sentence_embeddings = self.mean_pooling(model_output, encoded_input['attention_mask'])\n",
        "\n",
        "      # Normalize embeddings\n",
        "      sentence_embeddings = F.normalize(sentence_embeddings, p=2, dim=1)\n",
        "    elif model_selection == 'sbert':\n",
        "      sentence_embeddings = Fact_checking_module.modelSBERT.encode(sentences)\n",
        "    else: return None\n",
        "\n",
        "    lista = []\n",
        "    for sentence in range(1, len(sentence_embeddings)):\n",
        "      cos = cosine_similarity(sentence_embeddings[0].reshape(1, -1), sentence_embeddings[sentence].reshape(1, -1))\n",
        "      if cos > threshold:\n",
        "        lista.append((sentences[sentence], float(cos)))\n",
        "    return lista, sentences\n",
        "\n",
        "  def sustract_keywords(self, query:str)->list:\n",
        "    resul=[]\n",
        "    kw = Fact_checking_module.kw_model.extract_keywords(query,keyphrase_ngram_range=(1, 1), stop_words=None)\n",
        "    for k,v in kw:\n",
        "        resul.append(k)\n",
        "    return resul\n",
        "\n",
        "  def build_query(self, lista:list)->str:\n",
        "    new_l=[]\n",
        "    for elem in lista:\n",
        "        new_l.append(f'evidences:{elem} OR keywords:{elem}')\n",
        "    return \" OR \".join(new_l)\n",
        "\n",
        "  def search(self, q:str ,dirindex:str , k:int, formal_query:bool = False)->list:\n",
        "    if formal_query:\n",
        "      personal_query = q\n",
        "    else:\n",
        "      keyw=self.sustract_keywords(q)\n",
        "      print(f'-> Keywords of the query: {keyw}')\n",
        "      personal_query=self.build_query(keyw)\n",
        "    ix=open_dir(dirindex)\n",
        "    full_query=f'query --> {personal_query}'\n",
        "    print(full_query)\n",
        "    with ix.searcher() as searcher:\n",
        "        parser=QueryParser(\"evidences\",ix.schema)\n",
        "        query=parser.parse(personal_query)\n",
        "        results=searcher.search(query,limit=k)\n",
        "        ev=[]\n",
        "        for r in results:\n",
        "            print(f'-> {r[\"evidences\"]} ({r[\"keywords\"]})')\n",
        "            ev.append(r[\"evidences\"])\n",
        "        print(\"=================================\")\n",
        "        print(f'{len(results)} results')\n",
        "    if len(results)>k:\n",
        "        return ev[0:k]\n",
        "    else:\n",
        "        return ev\n",
        "  \n",
        "  def topNevidences(self, claim:str, evidences:list, N:int = 5, model_selection:str = 'mini', stripped = True):\n",
        "    sentences = [claim] + [evidences] if stripped else [claim] + [ev.strip() for ev in evidences]\n",
        "    if model_selection == 'mini':\n",
        "      encoded_input = Fact_checking_module.tokenizerMiniLM(sentences, padding=True, truncation=True, return_tensors='pt')\n",
        "\n",
        "      # Compute token embeddings\n",
        "      with torch.no_grad():\n",
        "          model_output = Fact_checking_module.modelMiniLM(**encoded_input)\n",
        "\n",
        "      # Perform pooling\n",
        "      sentence_embeddings = self.mean_pooling(model_output, encoded_input['attention_mask'])\n",
        "\n",
        "      # Normalize embeddings\n",
        "      sentence_embeddings = F.normalize(sentence_embeddings, p=2, dim=1)\n",
        "    elif model_selection == 'sbert':\n",
        "      sentence_embeddings = Fact_checking_module.modelSBERT.encode(sentences)\n",
        "    else: return None\n",
        "\n",
        "    indx = np.flip(np.argsort(cosine_similarity(sentence_embeddings[0].reshape(1, -1), sentence_embeddings[1:]))[0][-N:])\n",
        "    claim5 = [evidences[i] for i in indx]\n",
        "\n",
        "    return claim5, '. '.join(claim5)\n",
        "\n",
        "\n"
      ],
      "metadata": {
        "id": "sC95OKWjPUuM"
      },
      "execution_count": 12,
      "outputs": []
    },
    {
      "cell_type": "markdown",
      "source": [
        "## Some Fact_checking_module class usage"
      ],
      "metadata": {
        "id": "BlEIOzVRZbdu"
      }
    },
    {
      "cell_type": "code",
      "source": [
        "fct = Fact_checking_module()\n",
        "claim = 'Mr. Edgar Chagwa Lungu has not stated if he is ready for presidency in 2026'\n",
        "lista, sentences = fct.add_evidences(claim, [' '.join(frases)])\n",
        "lista"
      ],
      "metadata": {
        "id": "-v1VfquhazXi",
        "colab": {
          "base_uri": "https://localhost:8080/"
        },
        "outputId": "9530d1ed-852e-4ee6-a142-b402be08f9c0"
      },
      "execution_count": 13,
      "outputs": [
        {
          "output_type": "execute_result",
          "data": {
            "text/plain": [
              "[('Furthermore on 16th August, 2021, outgoing President Mr. Edgar Chagwa Lungu conceded defeat at around 12hrs and congratulated the incoming president elect Mr. Hakainde Hichilema.',\n",
              "  0.5056251883506775),\n",
              " ('The iVerify Zambia has determined as false the claim by the Koswe Facebook page that Zambia’s former Republican President, Dr Edgar Chagwa Lungu had  declared himself ready for the 2026 General Elections and that he was determined to remove the current Republican President, Mr. Hakainde Hichilema from office.',\n",
              "  0.5502665042877197)]"
            ]
          },
          "metadata": {},
          "execution_count": 13
        }
      ]
    },
    {
      "cell_type": "code",
      "source": [
        "text = \" \".join(frases).replace('\\n', ' ')\n",
        "evidences = nltk.tokenize.sent_tokenize(text)"
      ],
      "metadata": {
        "id": "O3egBSwAYBUd"
      },
      "execution_count": 14,
      "outputs": []
    },
    {
      "cell_type": "code",
      "source": [
        "lista, juntas = fct.topNevidences(claim, evidences, N = 5, stripped = False)\n",
        "lista"
      ],
      "metadata": {
        "colab": {
          "base_uri": "https://localhost:8080/"
        },
        "id": "VK5q8M1DW-EW",
        "outputId": "54843a2d-fa52-478c-dccd-fa2b7baa6461"
      },
      "execution_count": 16,
      "outputs": [
        {
          "output_type": "execute_result",
          "data": {
            "text/plain": [
              "['The iVerify Zambia has determined as false the claim by the Koswe Facebook page that Zambia’s former Republican President, Dr Edgar Chagwa Lungu had  declared himself ready for the 2026 General Elections and that he was determined to remove the current Republican President, Mr. Hakainde Hichilema from office.',\n",
              " 'Furthermore on 16th August, 2021, outgoing President Mr. Edgar Chagwa Lungu conceded defeat at around 12hrs and congratulated the incoming president elect Mr. Hakainde Hichilema.',\n",
              " 'In a statement on 12th August 2021, President Edgar Chagwa Lungu confirmed that PF Chairman Jackson Kungo died in the afternoon of 12th August 2021.',\n",
              " 'The previous Patriotic Front Government led by former President Edgar Chagwa Lungu, through support from the World Bank and other cooperating partners, contracted additional health workers to support the mainstream health staff in the fight against Covid-19 across the country for a period of three (3) months.',\n",
              " 'It is false that former President of the Republic of Zambia Mr Edgar Chagwa Lungu accused the current Republican President, Mr. Hakainde Hichilema of being a hypocrite who does say one thing and does another.']"
            ]
          },
          "metadata": {},
          "execution_count": 16
        }
      ]
    },
    {
      "cell_type": "code",
      "source": [
        "kw = fct.sustract_keywords(claim)\n",
        "kw"
      ],
      "metadata": {
        "colab": {
          "base_uri": "https://localhost:8080/"
        },
        "id": "whK7_OJpIOo6",
        "outputId": "ee50459a-522d-4e3c-ef13-22629226138a"
      },
      "execution_count": 31,
      "outputs": [
        {
          "output_type": "execute_result",
          "data": {
            "text/plain": [
              "['chagwa', '2026', 'lungu', 'presidency', 'edgar']"
            ]
          },
          "metadata": {},
          "execution_count": 31
        }
      ]
    },
    {
      "cell_type": "code",
      "source": [
        "q = fct.build_query(kw)\n",
        "q"
      ],
      "metadata": {
        "colab": {
          "base_uri": "https://localhost:8080/",
          "height": 53
        },
        "id": "asLAq_OMKECs",
        "outputId": "80ea6ce3-4c52-4af3-f145-5c198ace7405"
      },
      "execution_count": 32,
      "outputs": [
        {
          "output_type": "execute_result",
          "data": {
            "text/plain": [
              "'evidences:chagwa OR keywords:chagwa OR evidences:2026 OR keywords:2026 OR evidences:lungu OR keywords:lungu OR evidences:presidency OR keywords:presidency OR evidences:edgar OR keywords:edgar'"
            ],
            "application/vnd.google.colaboratory.intrinsic+json": {
              "type": "string"
            }
          },
          "metadata": {},
          "execution_count": 32
        }
      ]
    },
    {
      "cell_type": "code",
      "source": [
        "texts = fct.search(q, 'index', 5, formal_query = True)"
      ],
      "metadata": {
        "colab": {
          "base_uri": "https://localhost:8080/"
        },
        "id": "Yo6pcMtSPusb",
        "outputId": "6a2cffb1-cfac-4329-c9c8-7fa5331df16b"
      },
      "execution_count": 37,
      "outputs": [
        {
          "output_type": "stream",
          "name": "stdout",
          "text": [
            "query --> evidences:chagwa OR keywords:chagwa OR evidences:2026 OR keywords:2026 OR evidences:lungu OR keywords:lungu OR evidences:presidency OR keywords:presidency OR evidences:edgar OR keywords:edgar\n",
            "-> The iVerify Zambia has determined as false the claim by the Koswe Facebook page that Zambia’s former Republican President, Dr Edgar Chagwa Lungu had  declared himself ready for the 2026 General Elections and that he was determined to remove the current Republican President, Mr. Hakainde Hichilema from office. The video clip alleged to be recent was taken 3 years ago during a memorial service for the late Republican President, Mr. Michael Chilufya Sata. iVerify Zambia contacted former Zambia’s Ambassador to Ethiopia and an aspiring candidate for the Presidency of the Patriotic Front party, Honorable Emmanuel Mwamba refuted the claims by Koswe, confirming that the video clip was indeed taken in 2021 during the memorial service for the late President Michael Chilufya Sata. (zambia,chilufya,ethiopia,video,chagwa,)\n",
            "-> iVerify Zambia has fact-checked the claim by Zed Diary Facebook Page to establish if Mr. Edgar Chagwa Lungu had\n",
            "indeed stated in an interview that President Hakainde Hichilema had lied his way to power. Our verification process has found that indeed Mr. Lungu had said that some people lied their way to power, but did not refer to President Hakainde Hichilema by  name in his statement during the interview. Therefore, the claim by Zed Dairy  that Mr. Lungu had  stated that  President Hakainde Hichilema had lied his way into power, is misleading. (zambia,hichilema,lied,misleading,lungu,)\n",
            "-> It is false that former President of the Republic of Zambia Mr Edgar Chagwa Lungu accused the current Republican President, Mr. Hakainde Hichilema of being a hypocrite who does say one thing and does another.  Mr. Lungu did not mention President Hichilema or any other alleged “hypocrite”. After the burial of the late former President Mr Rupiah Banda, while responding to a journalist’s question on lessons learnt from Mr Banda’s life, Mr Lungu said “we should learn to dialogue honestly with one another …there is no need for hypocrisy where people say good things but do bad things”. In a short video clip watched by iVerify, Mr. Lungu uses the word hypocrisy but does not mention President Hakainde Hichilema. (hypocrisy,hypocrite,hichilema,zambia,lungu,)\n",
            "-> It is true that Mr. Hakainde Hichilema won the Presidential election with a landslide victory. Although the Electoral Commission of Zambia formally declared him a winner in the early hours of 16th August 2021, some candidates had already confirmed his victory on 13th August 2021, a day after the General elections. They claimed their confirmation was based on results from polling stations, and went on to concede defeat, before the official results were announced, and endorsed the United Party for National Development (UPND) candidate, Hakainde Hichilema as a winner. However, regardless of the predictions made, the Electoral commission of Zambia is the only body that is legally mandated to declare a candidate as a president after following proper and orderly way of the electoral process. In the early hours of Monday 16th August, 2021, the Electoral Commission of Zambia declared Mr. Hakainde Hichilema as President elect, after consolidating results that kept him in the lead with the a total number 2,810,757 votes, followed by Mr. Edgar Chagwa Lungu with 1,814,201 votes. Furthermore on 16th August, 2021, outgoing President Mr. Edgar Chagwa Lungu conceded defeat at around 12hrs and congratulated the incoming president elect Mr. Hakainde Hichilema. (zambia,electoral,election,hichilema,candidate,)\n",
            "-> iVerify Zambia fact-checking process has determined as misleading, the assertion that Crest lodge, which is property No. LUS/38479, belongs to the former Republican President, Mr. Edgar Lungu. In a statement released by the Drug Enforcement Commission, the Director General, Ms. Mary Chirwa stated that DEC had removed the notice of seizure after exhausting its inquiries into the property and learning that it did not belong to Mr. Lungu. According to Ms. Chirwa, DEC investigations revealed that property No. LUS/38478 was owned by Mr. Charles Phiri, and not Mr. Lungu as had been previously declared. Although DEC had issued the seizure notice in President Lungu’s name, she said that the verification process had shown and confirmed that the property in question actually belonged to Mr. Phiri. Therefore, the assertion that Crest lodge belongs to former Republican President, Mr. Edgar Lungu is misleading. (zambia,edgar,lungu,owned,crest,)\n",
            "=================================\n",
            "79 results\n"
          ]
        }
      ]
    },
    {
      "cell_type": "code",
      "source": [
        "texts"
      ],
      "metadata": {
        "colab": {
          "base_uri": "https://localhost:8080/"
        },
        "id": "DRqSNRj5QaFE",
        "outputId": "38dcb1b3-9bf4-4d41-d379-896389412cf9"
      },
      "execution_count": 38,
      "outputs": [
        {
          "output_type": "execute_result",
          "data": {
            "text/plain": [
              "['The iVerify Zambia has determined as false the claim by the Koswe Facebook page that Zambia’s former Republican President, Dr Edgar Chagwa Lungu had  declared himself ready for the 2026 General Elections and that he was determined to remove the current Republican President, Mr. Hakainde Hichilema from office. The video clip alleged to be recent was taken 3 years ago during a memorial service for the late Republican President, Mr. Michael Chilufya Sata. iVerify Zambia contacted former Zambia’s Ambassador to Ethiopia and an aspiring candidate for the Presidency of the Patriotic Front party, Honorable Emmanuel Mwamba refuted the claims by Koswe, confirming that the video clip was indeed taken in 2021 during the memorial service for the late President Michael Chilufya Sata.',\n",
              " 'iVerify Zambia has fact-checked the claim by Zed Diary Facebook Page to establish if Mr. Edgar Chagwa Lungu had\\nindeed stated in an interview that President Hakainde Hichilema had lied his way to power. Our verification process has found that indeed Mr. Lungu had said that some people lied their way to power, but did not refer to President Hakainde Hichilema by  name in his statement during the interview. Therefore, the claim by Zed Dairy  that Mr. Lungu had  stated that  President Hakainde Hichilema had lied his way into power, is misleading.',\n",
              " 'It is false that former President of the Republic of Zambia Mr Edgar Chagwa Lungu accused the current Republican President, Mr. Hakainde Hichilema of being a hypocrite who does say one thing and does another.  Mr. Lungu did not mention President Hichilema or any other alleged “hypocrite”. After the burial of the late former President Mr Rupiah Banda, while responding to a journalist’s question on lessons learnt from Mr Banda’s life, Mr Lungu said “we should learn to dialogue honestly with one another …there is no need for hypocrisy where people say good things but do bad things”. In a short video clip watched by iVerify, Mr. Lungu uses the word hypocrisy but does not mention President Hakainde Hichilema.',\n",
              " 'It is true that Mr. Hakainde Hichilema won the Presidential election with a landslide victory. Although the Electoral Commission of Zambia formally declared him a winner in the early hours of 16th August 2021, some candidates had already confirmed his victory on 13th August 2021, a day after the General elections. They claimed their confirmation was based on results from polling stations, and went on to concede defeat, before the official results were announced, and endorsed the United Party for National Development (UPND) candidate, Hakainde Hichilema as a winner. However, regardless of the predictions made, the Electoral commission of Zambia is the only body that is legally mandated to declare a candidate as a president after following proper and orderly way of the electoral process. In the early hours of Monday 16th August, 2021, the Electoral Commission of Zambia declared Mr. Hakainde Hichilema as President elect, after consolidating results that kept him in the lead with the a total number 2,810,757 votes, followed by Mr. Edgar Chagwa Lungu with 1,814,201 votes. Furthermore on 16th August, 2021, outgoing President Mr. Edgar Chagwa Lungu conceded defeat at around 12hrs and congratulated the incoming president elect Mr. Hakainde Hichilema.',\n",
              " 'iVerify Zambia fact-checking process has determined as misleading, the assertion that Crest lodge, which is property No. LUS/38479, belongs to the former Republican President, Mr. Edgar Lungu. In a statement released by the Drug Enforcement Commission, the Director General, Ms. Mary Chirwa stated that DEC had removed the notice of seizure after exhausting its inquiries into the property and learning that it did not belong to Mr. Lungu. According to Ms. Chirwa, DEC investigations revealed that property No. LUS/38478 was owned by Mr. Charles Phiri, and not Mr. Lungu as had been previously declared. Although DEC had issued the seizure notice in President Lungu’s name, she said that the verification process had shown and confirmed that the property in question actually belonged to Mr. Phiri. Therefore, the assertion that Crest lodge belongs to former Republican President, Mr. Edgar Lungu is misleading.']"
            ]
          },
          "metadata": {},
          "execution_count": 38
        }
      ]
    },
    {
      "cell_type": "code",
      "source": [
        "lista, sentences = fct.add_evidences(claim, texts, 0.5)\n",
        "lista"
      ],
      "metadata": {
        "colab": {
          "base_uri": "https://localhost:8080/"
        },
        "id": "pSoz7xLOQgkF",
        "outputId": "0442663b-8ff9-46c5-9bbb-6348a7efca25"
      },
      "execution_count": 39,
      "outputs": [
        {
          "output_type": "execute_result",
          "data": {
            "text/plain": [
              "[('The iVerify Zambia has determined as false the claim by the Koswe Facebook page that Zambia’s former Republican President, Dr Edgar Chagwa Lungu had  declared himself ready for the 2026 General Elections and that he was determined to remove the current Republican President, Mr. Hakainde Hichilema from office.',\n",
              "  0.5502665042877197),\n",
              " ('Furthermore on 16th August, 2021, outgoing President Mr. Edgar Chagwa Lungu conceded defeat at around 12hrs and congratulated the incoming president elect Mr. Hakainde Hichilema.',\n",
              "  0.5056251883506775),\n",
              " ('LUS/38479, belongs to the former Republican President, Mr. Edgar Lungu.',\n",
              "  0.523723840713501)]"
            ]
          },
          "metadata": {},
          "execution_count": 39
        }
      ]
    }
  ]
}